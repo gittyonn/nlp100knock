{
 "cells": [
  {
   "cell_type": "code",
   "execution_count": 27,
   "metadata": {},
   "outputs": [
    {
     "name": "stdout",
     "output_type": "stream",
     "text": [
      "stressed\n",
      "desserts\n"
     ]
    }
   ],
   "source": [
    "#00\n",
    "x = \"stressed\"\n",
    "y = \"\"\n",
    "print(x)\n",
    "for i in range(len(x)):\n",
    "    y += x[len(x)-i-1]\n",
    "print(y)"
   ]
  },
  {
   "cell_type": "code",
   "execution_count": 29,
   "metadata": {},
   "outputs": [
    {
     "name": "stdout",
     "output_type": "stream",
     "text": [
      "パタトクカシーー\n",
      "パトカー\n"
     ]
    }
   ],
   "source": [
    "#01\n",
    "x = \"パタトクカシーー\"\n",
    "y = \"\"\n",
    "print(x)\n",
    "y = x[0] + x[2] + x[4] + x[6]\n",
    "print(y)"
   ]
  },
  {
   "cell_type": "code",
   "execution_count": 30,
   "metadata": {},
   "outputs": [
    {
     "name": "stdout",
     "output_type": "stream",
     "text": [
      "パトカー\n",
      "タクシー\n",
      "パタトクカシーー\n"
     ]
    }
   ],
   "source": [
    "#02\n",
    "x = \"パトカー\"\n",
    "y = \"タクシー\"\n",
    "z = \"\"\n",
    "print(x)\n",
    "print(y)\n",
    "for i in range(len(x)):\n",
    "    z += x[i] + y[i]\n",
    "print(z)"
   ]
  },
  {
   "cell_type": "code",
   "execution_count": 105,
   "metadata": {},
   "outputs": [
    {
     "name": "stdout",
     "output_type": "stream",
     "text": [
      "Now I need a drink, alcoholic of course, after the heavy lectures involving quantum mechanics.\n",
      "[3, 1, 4, 1, 5, 9, 2, 6, 5, 3, 5, 8, 9, 7, 9]\n"
     ]
    }
   ],
   "source": [
    "#03\n",
    "x = \"Now I need a drink, alcoholic of course, after the heavy lectures involving quantum mechanics.\"\n",
    "print(x)\n",
    "\n",
    "def dev2word(x):\n",
    "    z = x.replace(\",\",\"\")\n",
    "    z = z.replace(\".\",\"\")\n",
    "    return z.split(\" \")\n",
    "\n",
    "y = dev2word(x)\n",
    "z = []\n",
    "for i in range(len(y)):\n",
    "    z.append(len(y[i]))\n",
    "print(z)"
   ]
  },
  {
   "cell_type": "code",
   "execution_count": 106,
   "metadata": {},
   "outputs": [
    {
     "name": "stdout",
     "output_type": "stream",
     "text": [
      "Hi He Lied Because Boron Could Not Oxidize Fluorine. New Nations Might Also Sign Peace Security Clause. Arthur King Can.\n",
      "{1: 'H', 2: 'He', 3: 'Li', 4: 'Be', 5: 'B', 6: 'C', 7: 'N', 8: 'O', 9: 'F', 10: 'Ne', 11: 'Na', 12: 'Mi', 13: 'Al', 14: 'Si', 15: 'P', 16: 'S', 17: 'Cl', 18: 'Ar', 19: 'K', 20: 'Ca'}\n"
     ]
    }
   ],
   "source": [
    "#04\n",
    "x = \"Hi He Lied Because Boron Could Not Oxidize Fluorine. New Nations Might Also Sign Peace Security Clause. Arthur King Can.\" \n",
    "print(x)\n",
    "y = dev2word(x)\n",
    "z = {}\n",
    "for i in range(len(y)):\n",
    "    if i in [0, 4, 5, 6, 7, 8, 14, 15, 18]:\n",
    "        z[i+1] = (y[i])[0] \n",
    "    else:\n",
    "        z[i+1] = (y[i])[0] + y[i][1]\n",
    "\n",
    "print(z)"
   ]
  },
  {
   "cell_type": "code",
   "execution_count": 107,
   "metadata": {},
   "outputs": [
    {
     "name": "stdout",
     "output_type": "stream",
     "text": [
      "['I ', ' a', 'am', 'm ', ' a', 'an', 'n ', ' N', 'NL', 'LP', 'Pe', 'er', 'r']\n",
      "['I am', 'am an', 'an NLPer', 'NLPer ']\n"
     ]
    }
   ],
   "source": [
    "#05\n",
    "def str_n_gram(n, x):\n",
    "    y = []\n",
    "    for i in range(len(x)):\n",
    "        y.append(x[i:i+n])\n",
    "    return y\n",
    "\n",
    "def word_n_gram(n, x):\n",
    "    x = dev2word(x)\n",
    "    y = []\n",
    "    for i in range(len(x)):\n",
    "        z = \"\"\n",
    "        for j in range(n):\n",
    "            if i+j < len(x):\n",
    "                if j != n-1:\n",
    "                    z += x[i+j] + \" \"\n",
    "                else:\n",
    "                    z += x[i+j]\n",
    "        y.append(z)\n",
    "    return y\n",
    "x = \"I am an NLPer\"\n",
    "y = str_n_gram(2, x)\n",
    "z = word_n_gram(2, x)\n",
    "print(y)\n",
    "print(z)"
   ]
  },
  {
   "cell_type": "code",
   "execution_count": 95,
   "metadata": {},
   "outputs": [
    {
     "name": "stdout",
     "output_type": "stream",
     "text": [
      "{'ad', 'e', 'gr', 'pa', 'ap', 'ph', 'h', 'ra', 'di', 'is', 'ar', 'ag', 'se'}\n",
      "{'pa', 'ap', 'ar', 'ra'}\n",
      "{'ad', 'e', 'di', 'is', 'se'}\n"
     ]
    }
   ],
   "source": [
    "#06\n",
    "#change to set\n",
    "def list2set(x):\n",
    "    z = set()\n",
    "    for i in range(len(x)):\n",
    "        z.add(x[i])\n",
    "    return z\n",
    "\n",
    "x = \"paraparaparadise\"\n",
    "y = \"paragraph\"\n",
    "\n",
    "X = str_n_gram(2, x)\n",
    "Y = str_n_gram(2, y)\n",
    "\n",
    "X = list2set(X)\n",
    "Y = list2set(Y)\n",
    "\n",
    "a = X | Y\n",
    "print(a)\n",
    "b = X & Y\n",
    "print(b)\n",
    "c = X - Y\n",
    "print(c)"
   ]
  },
  {
   "cell_type": "code",
   "execution_count": 97,
   "metadata": {},
   "outputs": [
    {
     "name": "stdout",
     "output_type": "stream",
     "text": [
      "12時の気温は22.4\n"
     ]
    }
   ],
   "source": [
    "#07\n",
    "def template(x,y,z):\n",
    "    return str(x) + \"時の\" + str(y) + \"は\" + str(z)\n",
    "\n",
    "x = 12\n",
    "y = \"気温\"\n",
    "z = 22.4\n",
    "print(template(x,y,z))"
   ]
  },
  {
   "cell_type": "code",
   "execution_count": 104,
   "metadata": {},
   "outputs": [
    {
     "name": "stdout",
     "output_type": "stream",
     "text": [
      "I An Am Emtrmvvi.\n"
     ]
    }
   ],
   "source": [
    "#08\n",
    "def cipher(x):\n",
    "    z = \"\"\n",
    "    for i in range(len(x)):\n",
    "        if x[i].islower():\n",
    "            z += chr(219 - ord(x[i]))\n",
    "        else:\n",
    "            z += x[i]\n",
    "    return z\n",
    "\n",
    "sentense = \"I Am An Engineer.\"\n",
    "txt = cipher(sentense)\n",
    "print(txt)"
   ]
  },
  {
   "cell_type": "code",
   "execution_count": 112,
   "metadata": {},
   "outputs": [
    {
     "name": "stdout",
     "output_type": "stream",
     "text": [
      "I cdl'uont beivele that I colud aaltlucy ursteadnnd what I was rdaieng : the pnnoehamel poewr of the hmaun mind.\n"
     ]
    }
   ],
   "source": [
    "#09\n",
    "import random\n",
    "def shuff5(x):\n",
    "    z = \"\"\n",
    "    z += x[0]\n",
    "    a = []\n",
    "    for i in range(1,len(x)-1):\n",
    "        a.append(x[i])\n",
    "\n",
    "    random.shuffle(a)\n",
    "    for i in range(len(a)):\n",
    "        z += a[i]\n",
    "    \n",
    "    z += x[len(x)-1]\n",
    "    return z  \n",
    "\n",
    "def add(x,i,hc,hp):\n",
    "    ans = \"\"\n",
    "    if i in hc:\n",
    "        ans += x + \",\"\n",
    "    elif i in hp:\n",
    "        ans += x + \".\"\n",
    "    else:\n",
    "        ans += x\n",
    "    return ans\n",
    "\n",
    "x = \"I couldn't believe that I could actually understand what I was reading : the phenomenal power of the human mind.\"\n",
    "y = x.split(\" \")\n",
    "\n",
    "hc = []\n",
    "hp = []\n",
    "for i in range(len(y)):\n",
    "    if \",\" in y[i]:\n",
    "        hc.append(i)\n",
    "    if \".\" in y[i]:\n",
    "        hp.append(i)\n",
    "\n",
    "z = dev2word(x)\n",
    "ans = \"\"\n",
    "for i in range(len(z)):       \n",
    "    if i == len(z)-1:\n",
    "        if len(z[i]) > 4:\n",
    "            a = shuff5(z[i])\n",
    "            ans += add(a,i,hc,hp)\n",
    "        else:\n",
    "            ans += add(z[i],i,hc,hp)\n",
    "    else:\n",
    "        if len(z[i]) > 4:\n",
    "            a = shuff5(z[i])\n",
    "            ans += add(a,i,hc,hp) + \" \"\n",
    "        else:\n",
    "            ans += add(z[i],i,hc,hp) + \" \"\n",
    "\n",
    "print(ans)"
   ]
  },
  {
   "cell_type": "code",
   "execution_count": null,
   "metadata": {},
   "outputs": [],
   "source": []
  }
 ],
 "metadata": {
  "kernelspec": {
   "display_name": "Python 3",
   "language": "python",
   "name": "python3"
  },
  "language_info": {
   "codemirror_mode": {
    "name": "ipython",
    "version": 3
   },
   "file_extension": ".py",
   "mimetype": "text/x-python",
   "name": "python",
   "nbconvert_exporter": "python",
   "pygments_lexer": "ipython3",
   "version": "3.7.3"
  }
 },
 "nbformat": 4,
 "nbformat_minor": 2
}
